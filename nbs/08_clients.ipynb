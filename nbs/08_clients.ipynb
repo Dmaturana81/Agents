{
 "cells": [
  {
   "cell_type": "code",
   "execution_count": null,
   "metadata": {},
   "outputs": [],
   "source": [
    "%load_ext autoreload\n",
    "%autoreload 2\n"
   ]
  },
  {
   "cell_type": "markdown",
   "metadata": {},
   "source": [
    "# LLM Clients\n",
    "\n",
    "> Module that contains clients for LLMs"
   ]
  },
  {
   "cell_type": "code",
   "execution_count": null,
   "metadata": {},
   "outputs": [],
   "source": [
    "#| default_exp base.llm_clients"
   ]
  },
  {
   "cell_type": "code",
   "execution_count": null,
   "metadata": {},
   "outputs": [
    {
     "name": "stderr",
     "output_type": "stream",
     "text": [
      "/Users/matu/.local/share/virtualenvs/Agents-uluWm89Z/lib/python3.12/site-packages/tqdm/auto.py:21: TqdmWarning: IProgress not found. Please update jupyter and ipywidgets. See https://ipywidgets.readthedocs.io/en/stable/user_install.html\n",
      "  from .autonotebook import tqdm as notebook_tqdm\n"
     ]
    }
   ],
   "source": [
    "#| export\n",
    "\n",
    "import os\n",
    "from anthropic import Anthropic\n",
    "import instructor\n",
    "from openai import OpenAI\n",
    "import google.generativeai as genai\n",
    "from groq import Groq\n",
    "from pydantic import BaseModel\n",
    "from typing import Literal, Any\n",
    "\n"
   ]
  },
  {
   "cell_type": "code",
   "execution_count": null,
   "metadata": {},
   "outputs": [],
   "source": [
    "#| export\n",
    "genai.configure(api_key=os.environ['GEMINI_API_KEY'])"
   ]
  },
  {
   "cell_type": "code",
   "execution_count": null,
   "metadata": {},
   "outputs": [],
   "source": [
    "#| export\n",
    "\n",
    "class BaseClient(BaseModel):\n",
    "    model: str\n",
    "    client: Any\n",
    "    instructor_client: Any\n",
    "\n",
    "    @classmethod\n",
    "    def from_name(cls, model_name: str, client_type: Literal[\"ollama\", \"openai\", \"anthropic\", \"groq\", \"gemini\"]):\n",
    "        match client_type:\n",
    "            case \"ollama\":\n",
    "                client = OpenAI(api_key=\"ollama\", base_url=\"http://localhost:11434/v1\")\n",
    "                instructor_client = instructor.patch(client, mode=instructor.Mode.JSON)\n",
    "            case \"openai\":\n",
    "                client = OpenAI(api_key=os.getenv(\"OPENAI_API_KEY\", \"\"))\n",
    "                instructor_client = instructor.from_openai(client)\n",
    "            case \"anthropic\":\n",
    "                client = Anthropic(api_key=os.getenv(\"ANTHROPIC_API_KEY\", \"\"))\n",
    "                instructor_client = instructor.from_anthropic(client)\n",
    "            case \"groq\":\n",
    "                client = Groq(api_key=os.getenv(\"GROQ_API_KEY\", \"\"))\n",
    "                instructor_client = instructor.from_groq(client)\n",
    "            case \"gemini\":\n",
    "                client = genai.GenerativeModel(\n",
    "                    model_name=model_name,\n",
    "                    api_key=os.getenv(\"GEMINI_API_KEY\", \"\"),\n",
    "                )\n",
    "                instructor_client = instructor.from_gemini(client)\n",
    "        return cls(model=model_name, client=client, instructor_client=instructor_client)\n",
    "#| export\n"
   ]
  },
  {
   "cell_type": "code",
   "execution_count": null,
   "metadata": {},
   "outputs": [],
   "source": [
    "#| hide\n",
    "import nbdev; nbdev.nbdev_export()"
   ]
  }
 ],
 "metadata": {
  "kernelspec": {
   "display_name": "python3",
   "language": "python",
   "name": "python3"
  }
 },
 "nbformat": 4,
 "nbformat_minor": 4
}
