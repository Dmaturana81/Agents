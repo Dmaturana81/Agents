{
 "cells": [
  {
   "cell_type": "code",
   "execution_count": null,
   "metadata": {},
   "outputs": [],
   "source": [
    "%load_ext autoreload\n",
    "%autoreload 2\n"
   ]
  },
  {
   "cell_type": "markdown",
   "metadata": {},
   "source": [
    "# LLM Clients\n",
    "\n",
    "> Module that contains clients for LLMs"
   ]
  },
  {
   "cell_type": "code",
   "execution_count": null,
   "metadata": {},
   "outputs": [],
   "source": [
    "#| default_exp base.llm_clients"
   ]
  },
  {
   "cell_type": "code",
   "execution_count": null,
   "metadata": {},
   "outputs": [
    {
     "name": "stderr",
     "output_type": "stream",
     "text": [
      "/Users/matu/.local/share/virtualenvs/Agents-uluWm89Z/lib/python3.12/site-packages/tqdm/auto.py:21: TqdmWarning: IProgress not found. Please update jupyter and ipywidgets. See https://ipywidgets.readthedocs.io/en/stable/user_install.html\n",
      "  from .autonotebook import tqdm as notebook_tqdm\n"
     ]
    }
   ],
   "source": [
    "#| export\n",
    "\n",
    "import os\n",
    "from anthropic import Anthropic\n",
    "import instructor\n",
    "from openai import OpenAI\n",
    "import google.generativeai as genai\n",
    "from groq import Groq\n",
    "from pydantic import BaseModel\n",
    "from typing import Literal, Any\n",
    "\n"
   ]
  },
  {
   "cell_type": "code",
   "execution_count": 1,
   "metadata": {},
   "outputs": [
    {
     "ename": "NameError",
     "evalue": "name 'BaseModel' is not defined",
     "output_type": "error",
     "traceback": [
      "\u001b[0;31m---------------------------------------------------------------------------\u001b[0m",
      "\u001b[0;31mNameError\u001b[0m                                 Traceback (most recent call last)",
      "Cell \u001b[0;32mIn[1], line 3\u001b[0m\n\u001b[1;32m      1\u001b[0m \u001b[38;5;66;03m#| export\u001b[39;00m\n\u001b[0;32m----> 3\u001b[0m \u001b[38;5;28;01mclass\u001b[39;00m \u001b[38;5;21;01mBaseClient\u001b[39;00m(\u001b[43mBaseModel\u001b[49m):\n\u001b[1;32m      4\u001b[0m     model: \u001b[38;5;28mstr\u001b[39m\n\u001b[1;32m      5\u001b[0m     client: Any\n",
      "\u001b[0;31mNameError\u001b[0m: name 'BaseModel' is not defined"
     ]
    }
   ],
   "source": [
    "#| export\n",
    "\n",
    "class BaseClient(BaseModel):\n",
    "    model: str\n",
    "    client: Any\n",
    "    instructor_client: Any\n",
    "\n",
    "    @classmethod\n",
    "    def from_name(cls, model_name: str, client_type: Literal[\"ollama\", \"openai\", \"anthropic\", \"groq\", \"gemini\"]):\n",
    "        match client_type:\n",
    "            case \"ollama\":\n",
    "                client = OpenAI(api_key=\"ollama\", base_url=\"http://localhost:11434/v1\")\n",
    "                instructor_client = instructor.patch(client, mode=instructor.Mode.JSON)\n",
    "            case \"openai\":\n",
    "                client = OpenAI(api_key=os.getenv(\"OPENAI_API_KEY\", \"\"))\n",
    "                instructor_client = instructor.from_openai(client)\n",
    "            case \"anthropic\":\n",
    "                client = Anthropic(api_key=os.getenv(\"ANTHROPIC_API_KEY\", \"\"))\n",
    "                instructor_client = instructor.from_anthropic(client)\n",
    "            case \"groq\":\n",
    "                client = Groq(api_key=os.getenv(\"GROQ_API_KEY\", \"\"))\n",
    "                instructor_client = instructor.from_groq(client)\n",
    "            case \"gemini\":\n",
    "                client = genai.GenerativeModel(\n",
    "                    model_name=model_name,\n",
    "                    api_key=os.getenv(\"GEMINI_API_KEY\", \"\"),\n",
    "                )\n",
    "                instructor_client = instructor.from_gemini(client)\n",
    "        return cls(model=model_name, client=client, instructor_client=instructor_client)\n",
    "#| export\n"
   ]
  },
  {
   "cell_type": "code",
   "execution_count": 2,
   "metadata": {},
   "outputs": [],
   "source": [
    "#| hide\n",
    "import nbdev; nbdev.nbdev_export()"
   ]
  },
  {
   "cell_type": "code",
   "execution_count": null,
   "metadata": {},
   "outputs": [],
   "source": []
  }
 ],
 "metadata": {
  "kernelspec": {
   "display_name": "python3",
   "language": "python",
   "name": "python3"
  },
  "language_info": {
   "codemirror_mode": {
    "name": "ipython",
    "version": 3
   },
   "file_extension": ".py",
   "mimetype": "text/x-python",
   "name": "python",
   "nbconvert_exporter": "python",
   "pygments_lexer": "ipython3",
   "version": "3.12.7"
  }
 },
 "nbformat": 4,
 "nbformat_minor": 4
}
