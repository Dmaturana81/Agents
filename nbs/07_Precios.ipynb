{
 "cells": [
  {
   "cell_type": "code",
   "execution_count": null,
   "metadata": {},
   "outputs": [],
   "source": [
    "%load_ext autoreload\n",
    "%autoreload 2\n"
   ]
  },
  {
   "cell_type": "markdown",
   "metadata": {},
   "source": [
    "# Precios\n",
    "\n",
    "> Agent that get the prices of properties in a given location and size"
   ]
  },
  {
   "cell_type": "code",
   "execution_count": null,
   "metadata": {},
   "outputs": [],
   "source": [
    "#| default_exp agents.precios\n",
    "\n"
   ]
  },
  {
   "cell_type": "code",
   "execution_count": null,
   "metadata": {},
   "outputs": [],
   "source": [
    "#| hide\n",
    "from nbdev.showdoc import *"
   ]
  },
  {
   "cell_type": "code",
   "execution_count": null,
   "metadata": {},
   "outputs": [],
   "source": [
    "#| export\n",
    "import requests\n"
   ]
  },
  {
   "cell_type": "code",
   "execution_count": null,
   "metadata": {},
   "outputs": [],
   "source": [
    "start_url = 'https://glue-api.vivareal.com/v2/listings?{query}'"
   ]
  },
  {
   "cell_type": "code",
   "execution_count": null,
   "metadata": {},
   "outputs": [],
   "source": [
    "params = f\"addressCity=&addressLocationId=BR%3ESao%20Paulo%3ENULL%3ESao%20Jose%20dos%20Campos%3EBarrios%3EJardim%20Estoril&addressNeighborhood=Jardim%20Estoril&addressState=S%C3%A3o%20Paulo&addressCountry=Brasil&addressStreet=&addressZone=Bairros&addressPointLat=-23.250373&addressPointLon=-45.884365&business=SALE&facets=amenities&unitTypes=&unitSubTypes=&unitTypesV3=&usageTypes=&listingType=USED&parentId=null&categoryPage=RESULT&images=webp&includeFields=search(result(listings(listing(displayAddressType%2Camenities%2CusableAreas%2CconstructionStatus%2ClistingType%2Cdescription%2Ctitle%2CunitTypes%2CnonActivationReason%2CpropertyType%2CunitSubTypes%2Cid%2Cportal%2CparkingSpaces%2Caddress%2Csuites%2CpublicationType%2CexternalId%2Cbathrooms%2CusageTypes%2CtotalAreas%2CadvertiserId%2Cbedrooms%2CpricingInfos%2CshowPrice%2Cstatus%2CadvertiserContact%2CvideoTourLink%2CwhatsappNumber%2Cstamps)%2Caccount(id%2Cname%2ClogoUrl%2ClicenseNumber%2CshowAddress%2ClegacyVivarealId%2Cphones%2Ctier)%2Cmedias%2CaccountLink%2Clink))%2CtotalCount)%2Cpage%2CseasonalCampaigns%2CfullUriFragments%2Cnearby(search(result(listings(listing(displayAddressType%2Camenities%2CusableAreas%2CconstructionStatus%2ClistingType%2Cdescription%2Ctitle%2CunitTypes%2CnonActivationReason%2CpropertyType%2CunitSubTypes%2Cid%2Cportal%2CparkingSpaces%2Caddress%2Csuites%2CpublicationType%2CexternalId%2Cbathrooms%2CusageTypes%2CtotalAreas%2CadvertiserId%2Cbedrooms%2CpricingInfos%2CshowPrice%2Cstatus%2CadvertiserContact%2CvideoTourLink%2CwhatsappNumber%2Cstamps)%2Caccount(id%2Cname%2ClogoUrl%2ClicenseNumber%2CshowAddress%2ClegacyVivarealId%2Cphones%2Ctier)%2Cmedias%2CaccountLink%2Clink))%2CtotalCount))%2Cexpansion(search(result(listings(listing(displayAddressType%2Camenities%2CusableAreas%2CconstructionStatus%2ClistingType%2Cdescription%2Ctitle%2CunitTypes%2CnonActivationReason%2CpropertyType%2CunitSubTypes%2Cid%2Cportal%2CparkingSpaces%2Caddress%2Csuites%2CpublicationType%2CexternalId%2Cbathrooms%2CusageTypes%2CtotalAreas%2CadvertiserId%2Cbedrooms%2CpricingInfos%2CshowPrice%2Cstatus%2CadvertiserContact%2CvideoTourLink%2CwhatsappNumber%2Cstamps)%2Caccount(id%2Cname%2ClogoUrl%2ClicenseNumber%2CshowAddress%2ClegacyVivarealId%2Cphones%2Ctier)%2Cmedias%2CaccountLink%2Clink))%2CtotalCount))%2Caccount(id%2Cname%2ClogoUrl%2ClicenseNumber%2CshowAddress%2ClegacyVivarealId%2Cphones%2Ctier%2Cphones)%2Cdevelopments(search(result(listings(listing(displayAddressType%2Camenities%2CusableAreas%2CconstructionStatus%2ClistingType%2Cdescription%2Ctitle%2CunitTypes%2CnonActivationReason%2CpropertyType%2CunitSubTypes%2Cid%2Cportal%2CparkingSpaces%2Caddress%2Csuites%2CpublicationType%2CexternalId%2Cbathrooms%2CusageTypes%2CtotalAreas%2CadvertiserId%2Cbedrooms%2CpricingInfos%2CshowPrice%2Cstatus%2CadvertiserContact%2CvideoTourLink%2CwhatsappNumber%2Cstamps)%2Caccount(id%2Cname%2ClogoUrl%2ClicenseNumber%2CshowAddress%2ClegacyVivarealId%2Cphones%2Ctier)%2Cmedias%2CaccountLink%2Clink))%2CtotalCount))%2Cowners(search(result(listings(listing(displayAddressType%2Camenities%2CusableAreas%2CconstructionStatus%2ClistingType%2Cdescription%2Ctitle%2CunitTypes%2CnonActivationReason%2CpropertyType%2CunitSubTypes%2Cid%2Cportal%2CparkingSpaces%2Caddress%2Csuites%2CpublicationType%2CexternalId%2Cbathrooms%2CusageTypes%2CtotalAreas%2CadvertiserId%2Cbedrooms%2CpricingInfos%2CshowPrice%2Cstatus%2CadvertiserContact%2CvideoTourLink%2CwhatsappNumber%2Cstamps)%2Caccount(id%2Cname%2ClogoUrl%2ClicenseNumber%2CshowAddress%2ClegacyVivarealId%2Cphones%2Ctier)%2Cmedias%2CaccountLink%2Clink))%2CtotalCount))&size=36&from=36&q=&developmentsSize=5&__vt=control%2Creq-ph&levels=NEIGHBORHOOD&ref=&pointRadius=&isPOIQuery=\""
   ]
  },
  {
   "cell_type": "code",
   "execution_count": null,
   "metadata": {},
   "outputs": [],
   "source": [
    "params_dict = {}\n",
    "for param in params.split(\"&\"):\n",
    "    k,v = param.split(\"=\")\n",
    "    params_dict[k] = v\n",
    "\n"
   ]
  },
  {
   "cell_type": "code",
   "execution_count": null,
   "metadata": {},
   "outputs": [
    {
     "data": {
      "text/plain": [
       "{'addressCity': '',\n",
       " 'addressLocationId': 'BR%3ESao%20Paulo%3ENULL%3ESao%20Jose%20dos%20Campos%3EBarrios%3EJardim%20Estoril',\n",
       " 'addressNeighborhood': 'Jardim%20Estoril',\n",
       " 'addressState': 'S%C3%A3o%20Paulo',\n",
       " 'addressCountry': 'Brasil',\n",
       " 'addressStreet': '',\n",
       " 'addressZone': 'Bairros',\n",
       " 'addressPointLat': '-23.250373',\n",
       " 'addressPointLon': '-45.884365',\n",
       " 'business': 'SALE',\n",
       " 'facets': 'amenities',\n",
       " 'unitTypes': '',\n",
       " 'unitSubTypes': '',\n",
       " 'unitTypesV3': '',\n",
       " 'usageTypes': '',\n",
       " 'listingType': 'USED',\n",
       " 'parentId': 'null',\n",
       " 'categoryPage': 'RESULT',\n",
       " 'images': 'webp',\n",
       " 'includeFields': 'search(result(listings(listing(displayAddressType%2Camenities%2CusableAreas%2CconstructionStatus%2ClistingType%2Cdescription%2Ctitle%2CunitTypes%2CnonActivationReason%2CpropertyType%2CunitSubTypes%2Cid%2Cportal%2CparkingSpaces%2Caddress%2Csuites%2CpublicationType%2CexternalId%2Cbathrooms%2CusageTypes%2CtotalAreas%2CadvertiserId%2Cbedrooms%2CpricingInfos%2CshowPrice%2Cstatus%2CadvertiserContact%2CvideoTourLink%2CwhatsappNumber%2Cstamps)%2Caccount(id%2Cname%2ClogoUrl%2ClicenseNumber%2CshowAddress%2ClegacyVivarealId%2Cphones%2Ctier)%2Cmedias%2CaccountLink%2Clink))%2CtotalCount)%2Cpage%2CseasonalCampaigns%2CfullUriFragments%2Cnearby(search(result(listings(listing(displayAddressType%2Camenities%2CusableAreas%2CconstructionStatus%2ClistingType%2Cdescription%2Ctitle%2CunitTypes%2CnonActivationReason%2CpropertyType%2CunitSubTypes%2Cid%2Cportal%2CparkingSpaces%2Caddress%2Csuites%2CpublicationType%2CexternalId%2Cbathrooms%2CusageTypes%2CtotalAreas%2CadvertiserId%2Cbedrooms%2CpricingInfos%2CshowPrice%2Cstatus%2CadvertiserContact%2CvideoTourLink%2CwhatsappNumber%2Cstamps)%2Caccount(id%2Cname%2ClogoUrl%2ClicenseNumber%2CshowAddress%2ClegacyVivarealId%2Cphones%2Ctier)%2Cmedias%2CaccountLink%2Clink))%2CtotalCount))%2Cexpansion(search(result(listings(listing(displayAddressType%2Camenities%2CusableAreas%2CconstructionStatus%2ClistingType%2Cdescription%2Ctitle%2CunitTypes%2CnonActivationReason%2CpropertyType%2CunitSubTypes%2Cid%2Cportal%2CparkingSpaces%2Caddress%2Csuites%2CpublicationType%2CexternalId%2Cbathrooms%2CusageTypes%2CtotalAreas%2CadvertiserId%2Cbedrooms%2CpricingInfos%2CshowPrice%2Cstatus%2CadvertiserContact%2CvideoTourLink%2CwhatsappNumber%2Cstamps)%2Caccount(id%2Cname%2ClogoUrl%2ClicenseNumber%2CshowAddress%2ClegacyVivarealId%2Cphones%2Ctier)%2Cmedias%2CaccountLink%2Clink))%2CtotalCount))%2Caccount(id%2Cname%2ClogoUrl%2ClicenseNumber%2CshowAddress%2ClegacyVivarealId%2Cphones%2Ctier%2Cphones)%2Cdevelopments(search(result(listings(listing(displayAddressType%2Camenities%2CusableAreas%2CconstructionStatus%2ClistingType%2Cdescription%2Ctitle%2CunitTypes%2CnonActivationReason%2CpropertyType%2CunitSubTypes%2Cid%2Cportal%2CparkingSpaces%2Caddress%2Csuites%2CpublicationType%2CexternalId%2Cbathrooms%2CusageTypes%2CtotalAreas%2CadvertiserId%2Cbedrooms%2CpricingInfos%2CshowPrice%2Cstatus%2CadvertiserContact%2CvideoTourLink%2CwhatsappNumber%2Cstamps)%2Caccount(id%2Cname%2ClogoUrl%2ClicenseNumber%2CshowAddress%2ClegacyVivarealId%2Cphones%2Ctier)%2Cmedias%2CaccountLink%2Clink))%2CtotalCount))%2Cowners(search(result(listings(listing(displayAddressType%2Camenities%2CusableAreas%2CconstructionStatus%2ClistingType%2Cdescription%2Ctitle%2CunitTypes%2CnonActivationReason%2CpropertyType%2CunitSubTypes%2Cid%2Cportal%2CparkingSpaces%2Caddress%2Csuites%2CpublicationType%2CexternalId%2Cbathrooms%2CusageTypes%2CtotalAreas%2CadvertiserId%2Cbedrooms%2CpricingInfos%2CshowPrice%2Cstatus%2CadvertiserContact%2CvideoTourLink%2CwhatsappNumber%2Cstamps)%2Caccount(id%2Cname%2ClogoUrl%2ClicenseNumber%2CshowAddress%2ClegacyVivarealId%2Cphones%2Ctier)%2Cmedias%2CaccountLink%2Clink))%2CtotalCount))',\n",
       " 'size': '36',\n",
       " 'from': '36',\n",
       " 'q': '',\n",
       " 'developmentsSize': '5',\n",
       " '__vt': 'control%2Creq-ph',\n",
       " 'levels': 'NEIGHBORHOOD',\n",
       " 'ref': '',\n",
       " 'pointRadius': '',\n",
       " 'isPOIQuery': ''}"
      ]
     },
     "execution_count": null,
     "metadata": {},
     "output_type": "execute_result"
    }
   ],
   "source": [
    "params_dict"
   ]
  },
  {
   "cell_type": "code",
   "execution_count": null,
   "metadata": {},
   "outputs": [],
   "source": [
    "params_query = {k:v if k in [\"addressPointLat\", \"addressPointLon\"] else \"\" for k,v in params_dict.items() }\n"
   ]
  },
  {
   "cell_type": "code",
   "execution_count": null,
   "metadata": {},
   "outputs": [],
   "source": [
    "headers = {\n",
    "        'x-domain': 'www.vivareal.com.br',\n",
    "        'User-Agent':'Mozilla/5.0 (Macintosh; Intel Mac OS X 10.15; rv:109.0) Gecko/20100101 Firefox/110.0'\n",
    "    }"
   ]
  },
  {
   "cell_type": "code",
   "execution_count": null,
   "metadata": {},
   "outputs": [],
   "source": [
    "client = requests.Session()\n",
    "client.get(url=\"https://www.vivareal.com.br\")\n",
    "client.headers = headers\n",
    "r = client.get(url=start_url, params=params_query)"
   ]
  },
  {
   "cell_type": "code",
   "execution_count": null,
   "metadata": {},
   "outputs": [
    {
     "data": {
      "text/plain": [
       "b'{\"err\":\"{\\\\n  code: \\'UNEXPECTED-RESPONSE\\',\\\\n  statusCode: 400,\\\\n  details: {\\\\n    err: null,\\\\n    response: IncomingMessage {\\\\n      _readableState: [ReadableState],\\\\n      _events: [Object: null prototype],\\\\n      _eventsCount: 3,\\\\n      _maxListeners: undefined,\\\\n      socket: null,\\\\n      httpVersionMajor: 1,\\\\n      httpVersionMinor: 1,\\\\n      httpVersion: \\'1.1\\',\\\\n      complete: true,\\\\n      rawHeaders: [Array],\\\\n      rawTrailers: [],\\\\n      aborted: false,\\\\n      upgrade: false,\\\\n      url: \\'\\',\\\\n      method: null,\\\\n      statusCode: 400,\\\\n      statusMessage: \\'\\',\\\\n      client: [TLSSocket],\\\\n      _consuming: true,\\\\n      _dumped: false,\\\\n      req: [ClientRequest],\\\\n      request: [Request],\\\\n      toJSON: [Function: responseToJSON],\\\\n      caseless: [Caseless],\\\\n      body: [Object],\\\\n      [Symbol(kCapture)]: false,\\\\n      [Symbol(kHeaders)]: [Object],\\\\n      [Symbol(kHeadersCount)]: 14,\\\\n      [Symbol(kTrailers)]: null,\\\\n      [Symbol(kTrailersCount)]: 0,\\\\n      [Symbol(RequestTimeout)]: undefined\\\\n    }\\\\n  }\\\\n}\",\"details\":{\"timestamp\":\"2024-11-05T18:28:24.515+00:00\",\"status\":400,\"message\":\"Parameter [size] must be a positive integer less than 110 (default: 20)\",\"path\":\"/v3/msearch\",\"request\":{}}}'"
      ]
     },
     "execution_count": null,
     "metadata": {},
     "output_type": "execute_result"
    }
   ],
   "source": [
    "r.content\n"
   ]
  },
  {
   "cell_type": "code",
   "execution_count": null,
   "metadata": {},
   "outputs": [
    {
     "data": {
      "text/plain": [
       "'https://glue-api.vivareal.com/v2/listings?%7Bquery%7D&addressCity=&addressLocationId=&addressNeighborhood=&addressState=&addressCountry=&addressStreet=&addressZone=&addressPointLat=-23.250373&addressPointLon=-45.884365&business=&facets=&unitTypes=&unitSubTypes=&unitTypesV3=&usageTypes=&listingType=&parentId=&categoryPage=&images=&includeFields=&size=&from=&q=&developmentsSize=&__vt=&levels=&ref=&pointRadius=&isPOIQuery='"
      ]
     },
     "execution_count": null,
     "metadata": {},
     "output_type": "execute_result"
    }
   ],
   "source": [
    "r.url"
   ]
  },
  {
   "cell_type": "code",
   "execution_count": null,
   "metadata": {},
   "outputs": [
    {
     "data": {
      "text/plain": [
       "{'addressCity': '',\n",
       " 'addressLocationId': '',\n",
       " 'addressNeighborhood': '',\n",
       " 'addressState': '',\n",
       " 'addressCountry': '',\n",
       " 'addressStreet': '',\n",
       " 'addressZone': '',\n",
       " 'addressPointLat': '-23.250373',\n",
       " 'addressPointLon': '-45.884365',\n",
       " 'business': '',\n",
       " 'facets': '',\n",
       " 'unitTypes': '',\n",
       " 'unitSubTypes': '',\n",
       " 'unitTypesV3': '',\n",
       " 'usageTypes': '',\n",
       " 'listingType': '',\n",
       " 'parentId': '',\n",
       " 'categoryPage': '',\n",
       " 'images': '',\n",
       " 'includeFields': '',\n",
       " 'size': '',\n",
       " 'from': '',\n",
       " 'q': '',\n",
       " 'developmentsSize': '',\n",
       " '__vt': '',\n",
       " 'levels': '',\n",
       " 'ref': '',\n",
       " 'pointRadius': '',\n",
       " 'isPOIQuery': ''}"
      ]
     },
     "execution_count": null,
     "metadata": {},
     "output_type": "execute_result"
    }
   ],
   "source": [
    "params_query"
   ]
  },
  {
   "cell_type": "code",
   "execution_count": null,
   "metadata": {},
   "outputs": [],
   "source": [
    "r = client.get(url=start_url, params=params_query, headers = headers)"
   ]
  },
  {
   "cell_type": "code",
   "execution_count": null,
   "metadata": {},
   "outputs": [],
   "source": [
    "#| hide\n",
    "import nbdev; nbdev.nbdev_export()"
   ]
  }
 ],
 "metadata": {
  "kernelspec": {
   "display_name": "python3",
   "language": "python",
   "name": "python3"
  }
 },
 "nbformat": 4,
 "nbformat_minor": 4
}
